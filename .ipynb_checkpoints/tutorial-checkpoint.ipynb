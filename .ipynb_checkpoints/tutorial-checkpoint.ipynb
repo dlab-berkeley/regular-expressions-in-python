{
 "cells": [
  {
   "cell_type": "markdown",
   "metadata": {
    "collapsed": true
   },
   "source": [
    "# Introduction to Regular Expressions in Python"
   ]
  },
  {
   "cell_type": "markdown",
   "metadata": {},
   "source": [
    "### Workshop Format\n",
    "\n",
    "* A Very Brief Intro to Essential Regular Expressions\n",
    "\n",
    "* Use case 1: Replacing text errors in a problematic dataset\n",
    "* Use case 2: Interacting with files with parsable names \n",
    "* Use case 3: Find most frequently occuring words in Jane Eyre\n",
    "\n",
    "* Own-time: Explore existing use cases & datasets"
   ]
  },
  {
   "cell_type": "markdown",
   "metadata": {
    "collapsed": true
   },
   "source": [
    "### A Very Brief Intro to Essential Regular Expressions\n",
    "\n",
    "Regular expressions are \"a sequence of characters that define a search pattern.\" They allow you to isolate portions of text or numeric data, and do various operations on them. \n",
    "\n",
    "They will occur in many contexts across various software, etc Excel, the command-line, Stata, and major programming languages, etc Ruby, Java and C. The principles are for the most part very similar, with minor modifications depending on the platform. We concentrate on the use of regular expressions in Python in this tutorial. "
   ]
  },
  {
   "cell_type": "markdown",
   "metadata": {
    "collapsed": true
   },
   "source": [
    "To start, open up Pythex an online Python regular expression editor. This allows us to quickly start practising regular expressions, and provides real-time verification and tips. \n",
    "\n",
    "[Pythex Example 1](http://pythex.org/?regex=.&test_string=%22.%22%20and%20%22%3F%22%20are%20special%20characters%20in%20regex.%20%0A%0AYou%20need%20to%20escape%20them%20with%20backslash%20-%20%22%5C%22.%20%0A%0ABackslash%20is%20also%20a%20special%20character%2C%20you%20need%20to%20escape%20it%20twice%20-%20%22%5C%5C%22%20to%20find%20it.%20%0A&ignorecase=0&multiline=0&dotall=0&verbose=0): Try searching for phrases within the text string. What happens? \n",
    "\n",
    "### 1. Special characters \n",
    "\n",
    "Various characters have special meanings in regular expressions. For instance, \".\" will match any character besides newline. Try it out. \n",
    "\n",
    "If you want to match a character that happens to be a special character, you have to escape it with backslash - \"\\\". Starting out, the easiest way to identify special characters are to try them out.\n",
    "\n",
    "[Pythex Example 1](http://pythex.org/?regex=.&test_string=%22.%22%20and%20%22%3F%22%20are%20special%20characters%20in%20regex.%20%0A%0AYou%20need%20to%20escape%20them%20with%20backslash%20-%20%22%5C%22.%20%0A%0ABackslash%20is%20also%20a%20special%20character%2C%20you%20need%20to%20escape%20it%20twice%20-%20%22%5C%5C%22%20to%20find%20it.%20%0A&ignorecase=0&multiline=0&dotall=0&verbose=0): Select the various special characters in the test string. \n",
    "\n",
    "### 2.  Sets & Quantifiers\n",
    "\n",
    "Regular expressions also allow you to define sets of characters to allow more customized parsing. The syntax is a set of possible characters within square brackets, etc [a-zA-Z], and quantifers directy after - \"*\" for 0 or more, \"+\" for 1 or more, and \"?\" for 0 or more for how many characters you want from the set. In combination, your regular expression might look like [0-9]{2} to select all 2 digit characters, for example. \n",
    "\n",
    "[0-9] - all numeric values <br />\n",
    "[a-z] - all lower-case values <br />\n",
    "[A-Z] - all upper-case values <br />\n",
    "[0-9a-z] - to combine sets, list them one after another <br />\n",
    "[ ]  - whitespace is whitespace <br />\n",
    "\\* - 0 or more from the set or expression <br />\n",
    "\\+ - 1 or more from the set or expression <br />\n",
    "\\? - 0 or more from the set or expression <br />\n",
    "{n} - n from the set or expression <br />\n",
    "\n",
    "Refer to your cheatsheet for more examples. \n",
    "\n",
    "[Pythex Example 2](http://pythex.org/?regex=%5B0-9%5D%7B2%7D&test_string=Adding%20odd%20sequences%20always%20yields%20squares%3A%201%20%3D%201%20x%201%2C%201%20%2B%203%20%3D%204%20%3D%202%20x%202%2C%201%20%2B%203%20%2B%205%20%3D%209%20%3D%203%20x%203%2C%201%20%2B%203%20%2B%205%20%2B%207%20%3D%2016%20%3D%204%20x%204&ignorecase=0&multiline=0&dotall=0&verbose=0): Try to search for specific sequences, such as \"1 + 3\", or \"4 = 2 X 2\". How would you select all sequences with the same structure? \n",
    "\n",
    "### 3. Special sequences \n",
    "\n",
    "Finally, special sequences provide shortcuts to predefined sets of characters. Some common special sequences are:\n",
    "\n",
    "\\d - Digit <br />\n",
    "\\D - non-Digit <br />\n",
    "\\q - Alphanumeric [0-9a-zA-Z_] <br />\n",
    "\\s - whitespaces\n",
    "\n",
    "[Pythex Example 3](http://pythex.org/?regex=%5Cw&test_string=%22.%22%20and%20%22%3F%22%20are%20special%20characters%20in%20regex.%20You%20need%20to%20escape%20them%20with%20backslash%20-%20%22%5C%22.%20Backslash%20is%20also%20a%20special%20character%2C%20you%20need%20to%20escape%20it%20twice%20-%20%22%5C%5C%22%20to%20find%20it.%20%0A%0ARandom%20math%20fact%20-%20adding%20odd%20sequences%20always%20yields%20squares%3A%201%20%3D%201%20x%201%2C%201%20%2B%203%20%3D%204%20%3D%202%20x%202%2C%201%20%2B%203%20%2B%205%20%3D%209%20%3D%203%20x%203%2C%201%20%2B%203%20%2B%205%20%2B%207%20%3D%2016%20%3D%204%20x%204&ignorecase=0&multiline=0&dotall=0&verbose=0): How would you write a regular expression to select everything in the test string? Notice that the only special characters within a set are \"]\", \"-\", and \"^\".\n",
    "\n",
    "### [ 15 minute break to try out above expressions. ]\n"
   ]
  },
  {
   "cell_type": "markdown",
   "metadata": {
    "collapsed": true
   },
   "source": [
    "### Usecase 1: Replacing text errors in a problematic dataset\n",
    "\n",
    "You've received a problematic dataset from a fellow researcher, with some data entry errors/discrepancies. How would you use regular expressions to correct these errors?\n",
    "\n",
    "1. Replace all instances of \"district\" or \"District\" with \"County\". \n",
    "2. Replace all instances of \"Not available\" or \"[Name] looking up\" with numeric codes.  "
   ]
  },
  {
   "cell_type": "code",
   "execution_count": 3,
   "metadata": {
    "collapsed": false
   },
   "outputs": [],
   "source": [
    "import re\n",
    "\n",
    "rfile = open(\"data/usecase1/problem_dataset.csv\", \"r\")\n",
    "text = rfile.read()\n",
    "\n",
    "# Introducing re.sub: pattern, replace, string\n",
    "\n",
    "# Replace all instances of \"district\" or \"District\" with \"County\".\n",
    "newtext = re.sub('[Dd]{1}istrict', \"County\", text)\n",
    "\n",
    "# Replace all instances of \"Not available\" or \"[Name] looking up\" with numeric codes. \n",
    "newtext = re.sub(\"Not [aA]{1}vailable\", \"-999\", newtext)\n",
    "newtext = re.sub(\"[a-zA-Z]+ looking up\", \"-888\", newtext)\n",
    "\n",
    "wfile = open(\"data/usecase1/cleaned_dataset.csv\", \"w\")\n",
    "wfile.write(newtext)\n",
    "wfile.close()"
   ]
  },
  {
   "cell_type": "markdown",
   "metadata": {},
   "source": [
    "### Usecase 2: Interacting with files with parsable names \n",
    "\n",
    "You are working on a nationwide study taking place with different population samples at various times. The PI on the project has sent you a folder with multiple files. Because these studies are led by different researchers in different cities, the data is not collated in a single dataset. The PI wants you to conduct analyses on various subsets of the data, and ultimately create a single dataset combining data from the different files. \n",
    "\n",
    "1. How do we select only files with the .txt extension?\n",
    "2. How do we only select csv files from Boston or Oakland?\n",
    "3. How do we select files from a range of years? "
   ]
  },
  {
   "cell_type": "code",
   "execution_count": null,
   "metadata": {
    "collapsed": false
   },
   "outputs": [],
   "source": [
    "import re\n",
    "import shutil\n",
    "import glob\n",
    "import os\n",
    "\n",
    "# Introducing glob\n",
    "# Standard * wildcard will get us pretty far \n",
    "# * is not the same as its usage in regular expressions \n",
    "\n",
    "# help(glob)\n",
    "glob.glob(\"*\")\n",
    "os.getcwd()\n",
    "\n",
    "# Select only files with .txt extension\n",
    "glob.glob(\"data/usecase2/*.txt\")\n",
    "\n",
    "# Select only csv files from Boston or Oakland\n",
    "glob.glob(\"data/usecase2/boston*.csv\")\n",
    "\n",
    "#  How do we select files from a range of years? \n",
    "all_files_list = glob.glob(\"data/usecase2/*\")\n",
    "\n",
    "# Introducing re.match \n",
    "# help(re.match)\n",
    "# re.match: pattern, string\n",
    "\n",
    "# try on first element of list\n",
    "first_filename = all_files_list[0]\n",
    "\n",
    "# Matching on first_filename\n",
    "re.match(\"[a-zA-z0-9/]+\\.csv\", first_filename)\n",
    "\n",
    "# Matching on a range of years \n",
    "re.match(\"[a-zA-z0-9/]+201[12]\\.csv\", first_filename)\n",
    "\n",
    "for filename in all_files_list:\n",
    "    if re.match(\"[a-zA-z0-9/]+201[12]\\.csv\", filename):\n",
    "        shutil.copy(filename, \"data/usecase2/moved\")\n",
    "\n",
    "# Aside: Introducing groups in re.match - allows you to retrieve part of the text string \n",
    "re.match(\"[a-zA-z0-9/]+(201[12])\\.csv\", first_filename).groups()Out[25]: <_sre.SRE_Match at 0x1089815e0>"
   ]
  },
  {
   "cell_type": "markdown",
   "metadata": {},
   "source": [
    "### Usecase 3: Find most frequently occuring words in Jane Eyre\n",
    "\n",
    "You are writing a paper doing textual analysis of Jane Eyre. You are interested in the relative frequencies of specific words, and extending this analysis to other texts, to track changes in language over time. \n",
    "\n",
    "1. How do we count the number of occurrences of a single word in the text?\n",
    "2. Using nltk, how do we collate frequencies of all words in Jane Eyre? "
   ]
  },
  {
   "cell_type": "code",
   "execution_count": null,
   "metadata": {
    "collapsed": true
   },
   "outputs": [],
   "source": [
    "import re\n",
    "from nltk.tokenize import word_tokenize\n",
    "import nltk\n",
    "\n",
    "rfile = open(\"data/usecase3/jane_eyre.txt\", \"r\")\n",
    "text = rfile.read()\n",
    "\n",
    "# Introducing re.findall\n",
    "# help(re.findall)\n",
    "# re.findall: pattern, string\n",
    "\n",
    "len(re.findall(\"Rochester\", text))\n",
    "len(re.findall(\"fire\", text))\n",
    "len(re.findall(\"melancholy\", text))\n",
    "len(re.findall(\"blood\", text))\n",
    "len(re.findall(\"heart\", text))\n",
    "\n",
    "# A more efficient solution: nltk \n",
    "words = word_tokenize(text)\n",
    "fdist = nltk.FreqDist(words)\n",
    "# List most common words in Jane Eyre \n",
    "fdist.items()[0:500]"
   ]
  },
  {
   "cell_type": "markdown",
   "metadata": {},
   "source": [
    "### Own-time: Explore existing use cases & datasets\n",
    "\n",
    "We've introduced a set of essential regular expressions and how we can use them in various contexts. Pick a usecase that is most relevant or interesting to you and explore the datasets provided. "
   ]
  }
 ],
 "metadata": {
  "kernelspec": {
   "display_name": "Python 2",
   "language": "python",
   "name": "python2"
  },
  "language_info": {
   "codemirror_mode": {
    "name": "ipython",
    "version": 2
   },
   "file_extension": ".py",
   "mimetype": "text/x-python",
   "name": "python",
   "nbconvert_exporter": "python",
   "pygments_lexer": "ipython2",
   "version": "2.7.10"
  }
 },
 "nbformat": 4,
 "nbformat_minor": 0
}
